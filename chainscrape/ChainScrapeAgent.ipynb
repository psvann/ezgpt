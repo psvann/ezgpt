{
 "cells": [
  {
   "cell_type": "code",
   "execution_count": 4,
   "id": "30f16062",
   "metadata": {},
   "outputs": [],
   "source": [
    "import os\n",
    "from langchain.llms import OpenAI\n",
    "from langchain.chat_models import ChatOpenAI\n",
    "\n",
    "from langchain.embeddings import OpenAIEmbeddings\n",
    "from langchain.vectorstores import Chroma\n",
    "from langchain.document_loaders import TextLoader\n",
    "from langchain.text_splitter import RecursiveCharacterTextSplitter\n",
    "from langchain.chains import RetrievalQA"
   ]
  },
  {
   "cell_type": "code",
   "execution_count": 5,
   "id": "5440792c",
   "metadata": {},
   "outputs": [],
   "source": [
    "openai_api_key = os.environ['OPENAI_API_KEY']"
   ]
  },
  {
   "cell_type": "code",
   "execution_count": 16,
   "id": "8be19e50",
   "metadata": {},
   "outputs": [],
   "source": [
    "## get documents\n",
    "raw_text = \"\"\"\n",
    "---\n",
    "title: \"CISA Secure Software Development Attestation Form (Draft)\"\n",
    "linktitle: \"Self-Attestation Form\"\n",
    "type: \"article\"\n",
    "date: 2023-05-10T15:21:01+02:00\n",
    "lastmod: 2023-05-10T15:21:01+02:00\n",
    "draft: false\n",
    "tags: [\"Reference\"]\n",
    "images: []\n",
    "menu:\n",
    "  docs:\n",
    "    parent: \"software-security\"\n",
    "weight: 10\n",
    "toc: true\n",
    "---\n",
    "\n",
    "## Attestation and Signature\n",
    "On behalf of the above-specified company, I attest that [software producer] presently makes consistent use of the following practices, drawn from the secure software development\n",
    "framework (SSDF), in developing the software identified in Section I:\n",
    "\n",
    "1. The software is developed and built in secure environments. Those environments are secured by the following actions, at a minimum:\n",
    "    1. Separating and protecting each environment involved in developing and building Software;\n",
    "    1. Regularly logging, monitoring, and auditing trust relationships used for authorization and access:\n",
    "        1. to any software development and build environments; and\n",
    "        1. among components within each environment;\n",
    "    1. Enforcing multi-factor authentication and conditional access across the environments relevant to developing and building software in a manner that minimized security risk;\n",
    "    1. Taking consistent and reasonable steps to document as well as minimize use or inclusion of software products that create undue risk within the environments used to develop and build software;\n",
    "    1. Encrypting sensitive data, such as credentials, to the extent practicable and based on risk;\n",
    "    1. Implementing defensive cyber security practices, including continuous monitoring of operations and alerts and, as necessary, responding to suspected and confirmed cyber incidents;\n",
    "1. The software producer has made a good-faith effort to maintain trusted source code supply chains by:\n",
    "    1. Employing automated tools or comparable processes; and \n",
    "    1. Establishing a process that includes reasonable steps to address the security of third-party components and manage related vulnerabilities;\n",
    "1. The software producer employs automated tools or comparable processes in a good-faith effort to maintain trusted source code supply chains;\n",
    "1. The software producer maintains provenance data for internal and third-party code incorporated into the software;\n",
    "1. The software producer employs automated tools or comparable processes that check for security vulnerabilities. In addition:\n",
    "    1. The software producer ensures these processes operate on an ongoing basis and, at a minimum, prior to product, version, or update releases; and\n",
    "    1. The software producer has a policy or process to address discovered security vulnerabilities prior to product release; and\n",
    "    1. The software producer operates a vulnerability disclosure program and accepts, reviews, and addresses disclosed software vulnerabilities in a timely fashion.\n",
    "    \n",
    "I attest that all requirements outlined above are consistently maintained and satisfied.\n",
    "I further attest the company will notify all impacted agencies if conformance to any element of this attestation is no longer valid. \n",
    "\n",
    "Please check the appropriate boxes below, if applicable:\n",
    "* [ ] There are addendums and/or artifacts attached to this self-attestation form, the title and contents of which are delineated below the signature line.\n",
    "* [ ] I attest that the referenced software has been verified by a certified FedRAMP Third Party Assessor Organization (3PAO) or other 3PAO approved by an appropriate agency official, and the Assessor used relevant NIST Guidance, which includes all elements outlined in this form, as the assessment baseline. Relevant documentation is attached.\n",
    "\n",
    "## References\n",
    "\n",
    "The [Draft of the Secure Software Development Self Attestation Form](https://www.cisa.gov/secure-software-attestation-form) available on cisa.gov, was released as part of a [Request For Comments](https://www.cisa.gov/secure-software-attestation-form) on April 27, 2023. Comments are due on June 26, 2023.\n",
    "\n",
    "_Reprinted courtesy of the National Institute of Standards and Technology, U.S. Department of Commerce. Not copyrightable in the United States._\n",
    "\"\"\""
   ]
  },
  {
   "cell_type": "code",
   "execution_count": 17,
   "id": "cc3db693",
   "metadata": {},
   "outputs": [],
   "source": [
    "llm = OpenAI(openai_api_key=openai_api_key, temperature=0)"
   ]
  },
  {
   "cell_type": "code",
   "execution_count": 18,
   "id": "63b2910d",
   "metadata": {},
   "outputs": [
    {
     "name": "stdout",
     "output_type": "stream",
     "text": [
      "Your embedding is length 1536\n",
      "Here's a sample: [0.01485704630613327, -0.004188054706901312, -0.006927063222974539, -0.01942206174135208, -0.029299091547727585]...\n",
      "You have 6 documents\n",
      "Preview:\n",
      "---\n",
      "title: \"CISA Secure Software Development Attestation Form (Draft)\"\n",
      "linktitle: \"Self-Attestation Form\"\n",
      "type: \"article\"\n",
      "date: 2023-05-10T15:21:01+02:00\n",
      "lastmod: 2023-05-10T15:21:01+02:00\n",
      "draft: false\n",
      "tags: [\"Reference\"]\n",
      "images: []\n",
      "menu:\n",
      "  docs:\n",
      "    parent: \"software-security\"\n",
      "weight: 10\n",
      "toc: true\n",
      "---\n",
      "\n",
      "## Attestation and Signature\n",
      "On behalf of the above-specified company, I attest that [software producer] presently makes consistent use of the following practices, drawn from the secure software development\n",
      "framework (SSDF), in developing the software identified in Section I: \n",
      "\n",
      "1. The software is developed and built in secure environments. Those environments are secured by the following actions, at a minimum:\n",
      "    1. Separating and protecting each environment involved in developing and building Software;\n",
      "    1. Regularly logging, monitoring, and auditing trust relationships used for authorization and access:\n",
      "        1. to any software development and build environments; and\n",
      "        1. among components within each environment;\n",
      "    1. Enforcing multi-factor authentication and conditional access across the environments relevant to developing and building software in a manner that minimized security risk;\n",
      "    1. Taking consistent and reasonable steps to document as well as minimize use or inclusion of software products that create undue risk within the environments used to develop and build software;\n",
      "    1. Encrypting sensitive data, such as credentials, to the extent practicable and based on risk;\n"
     ]
    }
   ],
   "source": [
    "# Split results string into chunks\n",
    "text_splitter = RecursiveCharacterTextSplitter(chunk_size=1000, chunk_overlap=0)\n",
    "docs = text_splitter.create_documents([raw_text])\n",
    "embeddings = OpenAIEmbeddings(openai_api_key=openai_api_key)\n",
    "text_embedding = embeddings.embed_query(raw_text)\n",
    "print (f\"Your embedding is length {len(text_embedding)}\")\n",
    "print (f\"Here's a sample: {text_embedding[:5]}...\")\n",
    "print (f\"You have {len(docs)} documents\")\n",
    "print (\"Preview:\")\n",
    "print (docs[0].page_content, \"\\n\")\n",
    "print (docs[1].page_content)"
   ]
  },
  {
   "cell_type": "code",
   "execution_count": 19,
   "id": "e311b175",
   "metadata": {},
   "outputs": [],
   "source": [
    "persist_directory = 'duckdb'\n",
    "docsearch = Chroma.from_documents(docs,embeddings,persist_directory=persist_directory)"
   ]
  },
  {
   "cell_type": "code",
   "execution_count": 20,
   "id": "30ccef6f",
   "metadata": {},
   "outputs": [],
   "source": [
    "qa = RetrievalQA.from_chain_type(llm=llm, chain_type=\"stuff\", retriever=docsearch.as_retriever())"
   ]
  },
  {
   "cell_type": "code",
   "execution_count": 24,
   "id": "470f950b",
   "metadata": {},
   "outputs": [
    {
     "name": "stderr",
     "output_type": "stream",
     "text": [
      "Retrying langchain.llms.openai.completion_with_retry.<locals>._completion_with_retry in 4.0 seconds as it raised APIError: Request failed due to server shutdown {\n",
      "  \"error\": {\n",
      "    \"message\": \"Request failed due to server shutdown\",\n",
      "    \"type\": \"server_error\",\n",
      "    \"param\": null,\n",
      "    \"code\": null\n",
      "  }\n",
      "}\n",
      " 500 {'error': {'message': 'Request failed due to server shutdown', 'type': 'server_error', 'param': None, 'code': None}} {'Date': 'Tue, 27 Jun 2023 15:20:11 GMT', 'Content-Type': 'application/json', 'Content-Length': '141', 'Connection': 'keep-alive', 'access-control-allow-origin': '*', 'openai-model': 'text-davinci-003', 'openai-organization': 'slim-ai-1', 'openai-processing-ms': '5788', 'openai-version': '2020-10-01', 'strict-transport-security': 'max-age=15724800; includeSubDomains', 'x-ratelimit-limit-requests': '3000', 'x-ratelimit-limit-tokens': '250000', 'x-ratelimit-remaining-requests': '2999', 'x-ratelimit-remaining-tokens': '249744', 'x-ratelimit-reset-requests': '20ms', 'x-ratelimit-reset-tokens': '61ms', 'x-request-id': '64d7a6ca044fdd377edc79ad501ec66e', 'CF-Cache-Status': 'DYNAMIC', 'Server': 'cloudflare', 'CF-RAY': '7ddeac0aca2a1788-EWR', 'alt-svc': 'h3=\":443\"; ma=86400'}.\n"
     ]
    },
    {
     "data": {
      "text/plain": [
       "'\\n\\nQ: What is the CISA Secure Software Development Attestation Form?\\nA: The CISA Secure Software Development Attestation Form is a document released by the National Institute of Standards and Technology, U.S. Department of Commerce, as part of a Request For Comments on April 27, 2023. The form is designed to help software producers ensure that their software development processes are secure and compliant with relevant NIST guidance. \\n\\nQ: What are the requirements of the form?\\nA: The form requires software producers to attest that they make consistent use of secure software development practices, as outlined in the form. This includes having a policy or process to address discovered security vulnerabilities prior to product release, and operating a vulnerability disclosure program to accept, review, and address disclosed software vulnerabilities in a timely fashion. \\n\\nQ: When are comments due on the form?\\nA: Comments on the form are due on June 26, 2023.'"
      ]
     },
     "execution_count": 24,
     "metadata": {},
     "output_type": "execute_result"
    }
   ],
   "source": [
    "qa.run(\"Generate an FAQ based on this document.\")"
   ]
  },
  {
   "cell_type": "code",
   "execution_count": null,
   "id": "38ba7ccb",
   "metadata": {},
   "outputs": [],
   "source": []
  }
 ],
 "metadata": {
  "kernelspec": {
   "display_name": "Python 3 (ipykernel)",
   "language": "python",
   "name": "python3"
  },
  "language_info": {
   "codemirror_mode": {
    "name": "ipython",
    "version": 3
   },
   "file_extension": ".py",
   "mimetype": "text/x-python",
   "name": "python",
   "nbconvert_exporter": "python",
   "pygments_lexer": "ipython3",
   "version": "3.10.9"
  }
 },
 "nbformat": 4,
 "nbformat_minor": 5
}
